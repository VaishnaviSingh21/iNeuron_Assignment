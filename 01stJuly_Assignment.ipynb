{
  "nbformat": 4,
  "nbformat_minor": 0,
  "metadata": {
    "colab": {
      "provenance": []
    },
    "kernelspec": {
      "name": "python3",
      "display_name": "Python 3"
    },
    "language_info": {
      "name": "python"
    }
  },
  "cells": [
    {
      "cell_type": "markdown",
      "source": [
        "1. What is the primary goal of Object-Oriented Programming (OOP)?\n",
        "\n",
        " Object-oriented programming is a programming paradigm that provides a means of structuring programs so that properties and behaviors are bundled into individual objects\n",
        "\n",
        "In Python, object-oriented Programming (OOPs) uses objects and classes in programming.\n",
        "It aims to implement real-world entities like inheritance, polymorphisms, encapsulation, etc. in the programming.\n",
        "The main concept of OOPs is to bind the data and the functions that work on that together as a single unit so that no other part of the code can access this data.\n",
        "It comes up with the following advantages:\n",
        "It helps to divide our over all program into different small segments and thus making it solving easy with the use of objects\n",
        "Helps in easy maintenance and modification of existing program\n",
        "Multiple instances of an object can be made."
      ],
      "metadata": {
        "id": "mSC-RpAsB3In"
      }
    },
    {
      "cell_type": "markdown",
      "source": [
        "2. What is an object in Python?\n",
        "\n",
        "Objects are variables that contain data and functions that can be used to manipulate the data. The object's data can vary in type (string, integer, etc.) depending on how it’s been defined. An object is like a mini-program inside python, with its own set of rules and behaviors."
      ],
      "metadata": {
        "id": "18cTYiM-XGQB"
      }
    },
    {
      "cell_type": "markdown",
      "source": [
        "3. What is a class in Python?\n",
        "\n",
        "Objects are variables that contain data and functions that can be used to manipulate the data. The object's data can vary in type (string, integer, etc.) depending on how it’s been defined. An object is like a mini-program inside python, with its own set of rules and behaviors."
      ],
      "metadata": {
        "id": "d2e9csmYXO6b"
      }
    },
    {
      "cell_type": "markdown",
      "source": [
        "4. What are attributes and methods in a class?\n",
        "\n",
        "Attributes are variables that belong to an object and contain information about its properties and characteristics. They can be used to represent details or facts related to the object.\n",
        "\n",
        "Methods are functions belonging to an object and are designed to perform actions or operations involving the object's attributes. Methods are defined as part of the class the object belongs to and are executed using instances of that particular class."
      ],
      "metadata": {
        "id": "kApZX0w2XaqH"
      }
    },
    {
      "cell_type": "markdown",
      "source": [
        "5. What is the difference between class variables and instance variables in Python?\n",
        "\n",
        "Class variables are useful for storing data that is shared among all instances of a class, such as constants or default values.\n",
        "\n",
        "Instance variables are used to store data that is unique to each instance of a class, such as object properties.\n"
      ],
      "metadata": {
        "id": "ZuFm2hrUXnFq"
      }
    },
    {
      "cell_type": "markdown",
      "source": [
        "6. What is the purpose of the self parameter in Python class methods?\n",
        "\n",
        "The self parameter is a reference to the current instance of the class, and is used to access variables that belongs to the class.\n",
        "\n",
        "class Person:\n",
        "  def __init__(obj, name, age):\n",
        "    obj.name = name\n",
        "    obj.age = age\n",
        "\n",
        "  def myfunc(abc):\n",
        "    print(\"Hello my name is \" + abc.name)\n",
        "\n",
        "p1 = Person(\"Vaishnavi\", 25)\n",
        "p1.myfunc()"
      ],
      "metadata": {
        "id": "flE1SsEMXxUE"
      }
    },
    {
      "cell_type": "markdown",
      "source": [
        "7. For a library management system, you have to design the \"Book\" class with OOP\n",
        "principles in mind. The “Book” class will have following attributes:\n",
        "\n",
        "a. title: Represents the title of the book.\n",
        "b. author: Represents the author(s) of the book.\n",
        "c. isbn: Represents the ISBN (International Standard Book Number) of the book.\n",
        "d. publication_year: Represents the year of publication of the book.\n",
        "e. available_copies: Represents the number of copies available for checkout.\n",
        "The class will also include the following methods:\n",
        "a. check_out(self): Decrements the available copies by one if there are copies\n",
        "available for checkout.\n",
        "b. return_book(self): Increments the available copies by one when a book is\n",
        "returned.\n",
        "c. display_book_info(self): Displays the information about the book, including its\n",
        "attributes and the number of available copies."
      ],
      "metadata": {
        "id": "TGBW_fRFX6JX"
      }
    },
    {
      "cell_type": "code",
      "source": [
        "class Book:\n",
        "    def __init__(self, title, author, isbn, publication_year, available_copies):\n",
        "        self.title = title\n",
        "        self.author = author\n",
        "        self.isbn = isbn\n",
        "        self.publication_year = publication_year\n",
        "        self.available_copies = available_copies\n",
        "\n",
        "    def check_out(self):\n",
        "        if self.available_copies > 0:\n",
        "            self.available_copies -= 1\n",
        "            print(f\"Book '{self.title}' checked out successfully.\")\n",
        "        else:\n",
        "            print(f\"Sorry, '{self.title}' is not available for checkout.\")\n",
        "\n",
        "    def return_book(self):\n",
        "        self.available_copies += 1\n",
        "        print(f\"Book '{self.title}' returned successfully.\")\n",
        "\n",
        "    def display_book_info(self):\n",
        "        print(f\"Title: {self.title}\")\n",
        "        print(f\"Author: {self.author}\")\n",
        "        print(f\"ISBN: {self.isbn}\")\n",
        "        print(f\"Publication Year: {self.publication_year}\")\n",
        "        print(f\"Available Copies: {self.available_copies}\")\n",
        "\n",
        "book1 = Book(\"The Catcher in the Rye\", \"J.D. Salinger\", \"978-0-316-76948-0\", 1951, 3)\n",
        "\n",
        "book1.display_book_info()\n",
        "\n",
        "book1.check_out()\n",
        "\n",
        "book1.return_book()\n",
        "\n",
        "book1.display_book_info()"
      ],
      "metadata": {
        "colab": {
          "base_uri": "https://localhost:8080/"
        },
        "id": "hrC8KUzHYHeI",
        "outputId": "465753f9-5399-4389-aea4-cf09adfca98b"
      },
      "execution_count": 1,
      "outputs": [
        {
          "output_type": "stream",
          "name": "stdout",
          "text": [
            "Title: The Catcher in the Rye\n",
            "Author: J.D. Salinger\n",
            "ISBN: 978-0-316-76948-0\n",
            "Publication Year: 1951\n",
            "Available Copies: 3\n",
            "Book 'The Catcher in the Rye' checked out successfully.\n",
            "Book 'The Catcher in the Rye' returned successfully.\n",
            "Title: The Catcher in the Rye\n",
            "Author: J.D. Salinger\n",
            "ISBN: 978-0-316-76948-0\n",
            "Publication Year: 1951\n",
            "Available Copies: 3\n"
          ]
        }
      ]
    },
    {
      "cell_type": "markdown",
      "source": [
        "8.For a ticket booking system, you have to design the \"Ticket\" class with OOP\n",
        "principles in mind. The “Ticket” class should have the following attributes:\n",
        "a. ticket_id: Represents the unique identifier for the ticket.\n",
        "b. event_name: Represents the name of the event.\n",
        "c. event_date: Represents the date of the event.\n",
        "d. venue: Represents the venue of the event.\n",
        "e. seat_number: Represents the seat number associated with the ticket.\n",
        "f. price: Represents the price of the ticket.\n",
        "g. is_reserved: Represents the reservation status of the ticket.\n",
        "The class also includes the following methods:\n",
        "a. reserve_ticket(self): Marks the ticket as reserved if it is not already reserved.\n",
        "b. cancel_reservation(self): Cancels the reservation of the ticket if it is already\n",
        "reserved.\n",
        "c. display_ticket_info(self): Displays the information about the ticket, including its\n",
        "attributes and reservation status."
      ],
      "metadata": {
        "id": "mfMUXqL7aR9u"
      }
    },
    {
      "cell_type": "code",
      "source": [
        "class Ticket:\n",
        "    def __init__(self, ticket_id, event_name, event_date, venue, seat_number, price):\n",
        "        self.ticket_id = ticket_id\n",
        "        self.event_name = event_name\n",
        "        self.event_date = event_date\n",
        "        self.venue = venue\n",
        "        self.seat_number = seat_number\n",
        "        self.price = price\n",
        "        self.is_reserved = False\n",
        "\n",
        "    def reserve_ticket(self):\n",
        "        if not self.is_reserved:\n",
        "            self.is_reserved = True\n",
        "            print(f\"Ticket {self.ticket_id} for '{self.event_name}' reserved successfully.\")\n",
        "        else:\n",
        "            print(f\"Ticket {self.ticket_id} is already reserved.\")\n",
        "\n",
        "    def cancel_reservation(self):\n",
        "        if self.is_reserved:\n",
        "            self.is_reserved = False\n",
        "            print(f\"Reservation for ticket {self.ticket_id} canceled.\")\n",
        "        else:\n",
        "            print(f\"Ticket {self.ticket_id} is not reserved.\")\n",
        "\n",
        "    def display_ticket_info(self):\n",
        "        print(f\"Ticket ID: {self.ticket_id}\")\n",
        "        print(f\"Event Name: {self.event_name}\")\n",
        "        print(f\"Event Date: {self.event_date}\")\n",
        "        print(f\"Venue: {self.venue}\")\n",
        "        print(f\"Seat Number: {self.seat_number}\")\n",
        "        print(f\"Price: ${self.price}\")\n",
        "        print(f\"Reservation Status: {'Reserved' if self.is_reserved else 'Not Reserved'}\")\n",
        "\n",
        "ticket1 = Ticket(1, \"Concert\", \"2023-12-31\", \"City Hall\", \"A101\", 50.0)\n",
        "\n",
        "ticket1.display_ticket_info()\n",
        "\n",
        "ticket1.reserve_ticket()\n",
        "\n",
        "ticket1.display_ticket_info()\n",
        "\n",
        "ticket1.cancel_reservation()\n",
        "\n",
        "ticket1.display_ticket_info()"
      ],
      "metadata": {
        "colab": {
          "base_uri": "https://localhost:8080/"
        },
        "id": "ysrRl_Pnao_4",
        "outputId": "b8c7297a-632e-4c98-9940-a2e487e2c642"
      },
      "execution_count": 2,
      "outputs": [
        {
          "output_type": "stream",
          "name": "stdout",
          "text": [
            "Ticket ID: 1\n",
            "Event Name: Concert\n",
            "Event Date: 2023-12-31\n",
            "Venue: City Hall\n",
            "Seat Number: A101\n",
            "Price: $50.0\n",
            "Reservation Status: Not Reserved\n",
            "Ticket 1 for 'Concert' reserved successfully.\n",
            "Ticket ID: 1\n",
            "Event Name: Concert\n",
            "Event Date: 2023-12-31\n",
            "Venue: City Hall\n",
            "Seat Number: A101\n",
            "Price: $50.0\n",
            "Reservation Status: Reserved\n",
            "Reservation for ticket 1 canceled.\n",
            "Ticket ID: 1\n",
            "Event Name: Concert\n",
            "Event Date: 2023-12-31\n",
            "Venue: City Hall\n",
            "Seat Number: A101\n",
            "Price: $50.0\n",
            "Reservation Status: Not Reserved\n"
          ]
        }
      ]
    },
    {
      "cell_type": "markdown",
      "source": [
        "9. You are creating a shopping cart for an e-commerce website. Using OOP to model\n",
        "the \"ShoppingCart\" functionality the class should contain following attributes and\n",
        "methods:\n",
        "a. items: Represents the list of items in the shopping cart.\n",
        "The class also includes the following methods:\n",
        "a. add_item(self, item): Adds an item to the shopping cart by appending it to the\n",
        "list of items.\n",
        "b. remove_item(self, item): Removes an item from the shopping cart if it exists in\n",
        "the list.\n",
        "c. view_cart(self): Displays the items currently present in the shopping cart.\n",
        "d. clear_cart(self): Clears all items from the shopping cart by reassigning an\n",
        "empty list to the items attribute."
      ],
      "metadata": {
        "id": "6Mt1UXlnaxbz"
      }
    },
    {
      "cell_type": "code",
      "source": [
        "class ShoppingCart:\n",
        "    def __init__(self):\n",
        "        self.items = []\n",
        "\n",
        "    def add_item(self, item):\n",
        "        self.items.append(item)\n",
        "        print(f\"Item '{item}' added to the shopping cart.\")\n",
        "\n",
        "    def remove_item(self, item):\n",
        "        if item in self.items:\n",
        "            self.items.remove(item)\n",
        "            print(f\"Item '{item}' removed from the shopping cart.\")\n",
        "        else:\n",
        "            print(f\"Item '{item}' not found in the shopping cart.\")\n",
        "\n",
        "    def view_cart(self):\n",
        "        if not self.items:\n",
        "            print(\"The shopping cart is empty.\")\n",
        "        else:\n",
        "            print(\"Items in the shopping cart:\")\n",
        "            for item in self.items:\n",
        "                print(f\"- {item}\")\n",
        "\n",
        "    def clear_cart(self):\n",
        "        self.items = []\n",
        "        print(\"Shopping cart cleared.\")\n",
        "\n",
        "shopping_cart = ShoppingCart()\n",
        "\n",
        "shopping_cart.add_item(\"Product A\")\n",
        "shopping_cart.add_item(\"Product B\")\n",
        "shopping_cart.add_item(\"Product C\")\n",
        "\n",
        "shopping_cart.view_cart()\n",
        "\n",
        "shopping_cart.remove_item(\"Product B\")\n",
        "\n",
        "shopping_cart.view_cart()\n",
        "\n",
        "shopping_cart.clear_cart()\n",
        "\n",
        "shopping_cart.view_cart()"
      ],
      "metadata": {
        "colab": {
          "base_uri": "https://localhost:8080/"
        },
        "id": "NC-ew4Gab1Z9",
        "outputId": "5e66e9b9-eeb4-4971-b1c4-ac78bd186ec1"
      },
      "execution_count": 3,
      "outputs": [
        {
          "output_type": "stream",
          "name": "stdout",
          "text": [
            "Item 'Product A' added to the shopping cart.\n",
            "Item 'Product B' added to the shopping cart.\n",
            "Item 'Product C' added to the shopping cart.\n",
            "Items in the shopping cart:\n",
            "- Product A\n",
            "- Product B\n",
            "- Product C\n",
            "Item 'Product B' removed from the shopping cart.\n",
            "Items in the shopping cart:\n",
            "- Product A\n",
            "- Product C\n",
            "Shopping cart cleared.\n",
            "The shopping cart is empty.\n"
          ]
        }
      ]
    },
    {
      "cell_type": "markdown",
      "source": [
        "10. Imagine a school management system. You have to design the \"Student\" class using\n",
        "OOP concepts.The “Student” class has the following attributes:\n",
        "a. name: Represents the name of the student.\n",
        "b. age: Represents the age of the student.\n",
        "c. grade: Represents the grade or class of the student.\n",
        "d. student_id: Represents the unique identifier for the student.\n",
        "e. attendance: Represents the attendance record of the student.\n",
        "The class should also include the following methods:\n",
        "a. update_attendance(self, date, status): Updates the attendance record of the\n",
        "student for a given date with the provided status (e.g., present or absent).\n",
        "b. get_attendance(self): Returns the attendance record of the student.\n",
        "c. get_average_attendance(self): Calculates and returns the average\n",
        "attendance percentage of the student based on their attendance record."
      ],
      "metadata": {
        "id": "c4mVs-ipcC38"
      }
    },
    {
      "cell_type": "code",
      "source": [
        "class Student:\n",
        "    def __init__(self, name, age, grade, student_id):\n",
        "        self.name = name\n",
        "        self.age = age\n",
        "        self.grade = grade\n",
        "        self.student_id = student_id\n",
        "        self.attendance = {}\n",
        "\n",
        "    def update_attendance(self, date, status):\n",
        "        if status.lower() in [\"present\", \"absent\"]:\n",
        "            self.attendance[date] = status.lower()\n",
        "            print(f\"Attendance updated for {self.name} on {date}. Status: {status.capitalize()}.\")\n",
        "        else:\n",
        "            print(\"Invalid attendance status. Use 'present' or 'absent'.\")\n",
        "\n",
        "    def get_attendance(self):\n",
        "        return self.attendance\n",
        "\n",
        "    def get_average_attendance(self):\n",
        "        total_days = len(self.attendance)\n",
        "        if total_days == 0:\n",
        "            return 0.0\n",
        "        present_days = sum(1 for status in self.attendance.values() if status == \"present\")\n",
        "        average_percentage = (present_days / total_days) * 100\n",
        "        return round(average_percentage, 2)\n",
        "\n",
        "student1 = Student(\"John Doe\", 16, \"10th Grade\", \"S12345\")\n",
        "\n",
        "student1.update_attendance(\"2023-01-10\", \"present\")\n",
        "student1.update_attendance(\"2023-01-11\", \"absent\")\n",
        "student1.update_attendance(\"2023-01-12\", \"present\")\n",
        "\n",
        "print(\"Attendance:\", student1.get_attendance())\n",
        "\n",
        "average_attendance = student1.get_average_attendance()\n",
        "print(f\"Average Attendance: {average_attendance}%\")"
      ],
      "metadata": {
        "colab": {
          "base_uri": "https://localhost:8080/"
        },
        "id": "-QLDxHYgeNe7",
        "outputId": "54dd92cb-7327-4f42-ceae-f8d18222bfb9"
      },
      "execution_count": 6,
      "outputs": [
        {
          "output_type": "stream",
          "name": "stdout",
          "text": [
            "Attendance updated for John Doe on 2023-01-10. Status: Present.\n",
            "Attendance updated for John Doe on 2023-01-11. Status: Absent.\n",
            "Attendance updated for John Doe on 2023-01-12. Status: Present.\n",
            "Attendance: {'2023-01-10': 'present', '2023-01-11': 'absent', '2023-01-12': 'present'}\n",
            "Average Attendance: 66.67%\n"
          ]
        }
      ]
    }
  ]
}