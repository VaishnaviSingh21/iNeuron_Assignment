{
  "nbformat": 4,
  "nbformat_minor": 0,
  "metadata": {
    "colab": {
      "provenance": []
    },
    "kernelspec": {
      "name": "python3",
      "display_name": "Python 3"
    },
    "language_info": {
      "name": "python"
    }
  },
  "cells": [
    {
      "cell_type": "markdown",
      "source": [
        "1. Explain what inheritance is in object-oriented programming and why it is used.\n",
        "\n",
        "Inheritance is a fundamental concept in object-oriented programming (OOP) that allows a new class, called the subclass or derived class, to inherit the properties and behaviors (attributes and methods) of an existing class, known as the superclass or base class. Inheritance promotes code reuse and establishes a relationship between classes in a hierarchical manner.\n",
        "\n",
        "Inheritance is used for:\n",
        "\n",
        "Code Reusability: Inheritance allows the reuse of existing code from the base\n",
        "\n",
        "*   Code Reusability: Inheritance allows the reuse of existing code from the base class, reducing redundancy and promoting a modular and maintainable codebase.\n",
        "\n",
        "*   Extensibility: New functionality can be added to a program by extending existing classes without modifying their code.\n",
        "\n",
        "*   Hierarchy and Organization: Inheritance helps in organizing classes into a hierarchy, making the code structure clearer and more intuitive.\n",
        "*   Polymorphism: Inheritance is closely related to polymorphism, where objects of the derived class can be treated as objects of the base class, providing flexibility in program design.\n",
        "\n",
        "\n"
      ],
      "metadata": {
        "id": "UJSswnBs7AWD"
      }
    },
    {
      "cell_type": "code",
      "source": [
        "class Animal:\n",
        "    def speak(self):\n",
        "        print(\"Animal speaks\")\n",
        "\n",
        "class Dog(Animal):\n",
        "    def bark(self):\n",
        "        print(\"Dog barks\")\n",
        "\n",
        "dog=Dog()\n",
        "dog.speak()\n",
        "dog.bark()"
      ],
      "metadata": {
        "colab": {
          "base_uri": "https://localhost:8080/"
        },
        "id": "N01a2WpK8DKT",
        "outputId": "93fe6a43-3e53-4080-826d-9ed3903cc737"
      },
      "execution_count": 14,
      "outputs": [
        {
          "output_type": "stream",
          "name": "stdout",
          "text": [
            "Animal speaks\n",
            "Dog barks\n"
          ]
        }
      ]
    },
    {
      "cell_type": "markdown",
      "source": [
        "2. Discuss the concept of single inheritance and multiple inheritance, highlighting their\n",
        "differences and advantages.\n",
        "\n",
        "**Single Inheritance:** In single inheritance, a class can inherit from only one superclass. This means that a derived class (subclass) extends a single base class (superclass). Single inheritance is straightforward and easy to understand, and it promotes a clear hierarchy in the class structure.\n",
        "\n",
        "It is simple and easy to grasp, Changes in the base class are less likely to affect derived classes, There is less ambiguity in method resolution order since there is only one superclass.\n",
        "\n",
        "**Multiple Inheritance:** In multiple inheritance, a class can inherit from more than one superclass. This allows a derived class to inherit attributes and behaviors from multiple base classes. While powerful, multiple inheritance introduces some complexities and challenges, such as the potential for method name conflicts (diamond problem) and a more intricate class hierarchy.\n",
        "\n",
        "Enables the reuse of code from multiple sources, Provides more flexibility in designing complex class hierarchies, Allows for expressing relationships that may not be easily captured by a single inheritance hierarchy.\n",
        "\n",
        "The main difference is the number of superclasses a class can inherit from (one in single inheritance, more than one in multiple inheritance).\n",
        "\n",
        "Single inheritance tends to have a simpler class hierarchy, while multiple inheritance can lead to a more complex hierarchy."
      ],
      "metadata": {
        "id": "4V1hIiS99sQw"
      }
    },
    {
      "cell_type": "code",
      "source": [
        "#Single Inheritance\n",
        "class Animal:\n",
        "    def speak(self):\n",
        "        print(\"Animal speaks\")\n",
        "\n",
        "class Dog(Animal):\n",
        "    def bark(self):\n",
        "        print(\"Dog barks\")\n",
        "\n",
        "dog= Dog()\n",
        "dog.speak()\n",
        "dog.bark()"
      ],
      "metadata": {
        "colab": {
          "base_uri": "https://localhost:8080/"
        },
        "id": "kNXJIwPB-xka",
        "outputId": "40dc54e7-9ef6-4373-bacd-ac7cca5c06cd"
      },
      "execution_count": 15,
      "outputs": [
        {
          "output_type": "stream",
          "name": "stdout",
          "text": [
            "Animal speaks\n",
            "Dog barks\n"
          ]
        }
      ]
    },
    {
      "cell_type": "code",
      "source": [
        "#Multiple Inheritance\n",
        "\n",
        "class Bird:\n",
        "    def chirp(self):\n",
        "        print(\"Bird chirps\")\n",
        "\n",
        "class Mammal:\n",
        "    def speak(self):\n",
        "        print(\"Mammal speaks\")\n",
        "\n",
        "class Bat(Bird, Mammal):\n",
        "    def fly(self):\n",
        "        print(\"Bat flies\")\n",
        "\n",
        "bat=Bat()\n",
        "bat.chirp()\n",
        "bat.speak()\n",
        "bat.fly()"
      ],
      "metadata": {
        "colab": {
          "base_uri": "https://localhost:8080/"
        },
        "id": "eFgqy3WC_cQd",
        "outputId": "abd65301-fe13-494a-f55d-2406a1687fb3"
      },
      "execution_count": 16,
      "outputs": [
        {
          "output_type": "stream",
          "name": "stdout",
          "text": [
            "Bird chirps\n",
            "Mammal speaks\n",
            "Bat flies\n"
          ]
        }
      ]
    },
    {
      "cell_type": "markdown",
      "source": [
        "3. Explain the terms \"base class\" and \"derived class\" in the context of inheritance.\n",
        "\n",
        "The base class, also known as the superclass or parent class, is the class whose properties and behaviors are inherited by another class.\n",
        "It serves as a template or blueprint for creating new classes (derived classes).\n",
        "The base class contains common attributes and methods that are shared by one or more derived classes.\n",
        "\n",
        "The derived class, also known as the subclass or child class, is the class that inherits from another class (the base class).\n",
        "It extends or specializes the functionality of the base class by adding new attributes or methods or by overriding existing ones.\n",
        "The derived class has access to the attributes and methods of the base class through inheritance.\n",
        "It can have its own unique attributes and methods in addition to those inherited from the base class.\n",
        "\n"
      ],
      "metadata": {
        "id": "8-WlWHgNAndM"
      }
    },
    {
      "cell_type": "code",
      "source": [
        "class Animal:         #Base Class\n",
        "    def speak(self):\n",
        "        print(\"Animal speaks\")\n",
        "\n",
        "class Dog(Animal):    #Derived Class\n",
        "    def bark(self):\n",
        "        print(\"Dog barks\")\n",
        "\n",
        "dog= Dog()\n",
        "dog.speak()\n",
        "dog.bark()"
      ],
      "metadata": {
        "id": "WK7bdJdioird"
      },
      "execution_count": null,
      "outputs": []
    },
    {
      "cell_type": "markdown",
      "source": [
        "4. What is the significance of the \"protected\" access modifier in inheritance? How does\n",
        "it differ from \"private\" and \"public\" modifiers?\n",
        "\n",
        "**Significance of \"Protected\" in Inheritance:**\n",
        "\n",
        "*   In the context of inheritance, the \"protected\" modifier is often used to make certain attributes or methods accessible to derived classes, allowing them to inherit and use these members.\n",
        "\n",
        "*   Subclasses can access and modify protected members, but external code cannot.\n",
        "\n",
        "Protected access modifiers is different from private and public modifiers:\n",
        "\n",
        "**Public**: Accessible from anywhere.\n",
        "\n",
        "**Private**: Accessible only within the class that defines them.\n",
        "\n",
        "**Protected**: Accessible within the class and its subclasses.\n",
        "\n",
        "\n"
      ],
      "metadata": {
        "id": "x1PJvzN9otIL"
      }
    },
    {
      "cell_type": "markdown",
      "source": [
        "5. What is the purpose of the \"super\" keyword in inheritance? Provide an example.\n",
        "\n",
        "The \"super\" keyword in inheritance is used to refer to the superclass (or parent class) and is primarily used to call methods and access attributes of the superclass from within the subclass. It is particularly useful when a subclass wants to extend or override the behavior of the methods defined in its superclass.\n",
        "\n"
      ],
      "metadata": {
        "id": "zqwyJZJFplDE"
      }
    },
    {
      "cell_type": "code",
      "source": [
        "class Vehicle:\n",
        "  def __init__(self,brand):\n",
        "    self.brand=brand\n",
        "\n",
        "  def start(self):\n",
        "    print(f\"the {self.brand} is starting\")\n",
        "\n",
        "class Bicycle(Vehicle):\n",
        "  def __init__(self,brand,model):\n",
        "    super().__init__(brand)\n",
        "    self.model=model\n",
        "\n",
        "  def start(self):\n",
        "    super().start()\n",
        "    print(f\"the {self.brand} {self.model} is ready to go\")\n",
        "\n",
        "bicycle=Bicycle(\"Hero\",\"Gear\")\n",
        "bicycle.start()"
      ],
      "metadata": {
        "colab": {
          "base_uri": "https://localhost:8080/"
        },
        "id": "DqI6ERbyvuSQ",
        "outputId": "bf2bd3da-4aff-41ee-8a45-95ae766e9ab8"
      },
      "execution_count": 4,
      "outputs": [
        {
          "output_type": "stream",
          "name": "stdout",
          "text": [
            "the Hero is starting\n",
            "the Hero Gear is ready to go\n"
          ]
        }
      ]
    },
    {
      "cell_type": "markdown",
      "source": [
        "6. Create a base class called \"Vehicle\" with attributes like \"make\", \"model\", and \"year\".\n",
        "Then, create a derived class called \"Car\" that inherits from \"Vehicle\" and adds an\n",
        "attribute called \"fuel_type\". Implement appropriate methods in both classes."
      ],
      "metadata": {
        "id": "LyboP2ZgwAUm"
      }
    },
    {
      "cell_type": "code",
      "source": [
        "class Vehicle:\n",
        "    def __init__(self, make, model, year):\n",
        "        self.make = make\n",
        "        self.model = model\n",
        "        self.year = year\n",
        "\n",
        "    def display_info(self):\n",
        "        print(f\"Make: {self.make}\")\n",
        "        print(f\"Model: {self.model}\")\n",
        "        print(f\"Year: {self.year}\")\n",
        "\n",
        "class Car(Vehicle):\n",
        "    def __init__(self, make, model, year, fuel_type):\n",
        "        super().__init__(make, model, year)\n",
        "        self.fuel_type = fuel_type\n",
        "\n",
        "    def display_info(self):\n",
        "        super().display_info()\n",
        "        print(f\"Fuel Type: {self.fuel_type}\")\n",
        "\n",
        "vehicle1 = Vehicle(\"Hyundai\", \"Camry\", 2022)\n",
        "vehicle1.display_info()\n",
        "\n",
        "print(\"\\n\")\n",
        "\n",
        "car1 = Car(\"Honda\", \"Civic\", 2023, \"Gasoline\")\n",
        "car1.display_info()"
      ],
      "metadata": {
        "colab": {
          "base_uri": "https://localhost:8080/"
        },
        "id": "_lao70GQwGB_",
        "outputId": "45bd5340-6e73-4409-e3b4-b6631e743bb6"
      },
      "execution_count": 5,
      "outputs": [
        {
          "output_type": "stream",
          "name": "stdout",
          "text": [
            "Make: Hyundai\n",
            "Model: Camry\n",
            "Year: 2022\n",
            "\n",
            "\n",
            "Make: Honda\n",
            "Model: Civic\n",
            "Year: 2023\n",
            "Fuel Type: Gasoline\n"
          ]
        }
      ]
    },
    {
      "cell_type": "markdown",
      "source": [
        "7. Create a base class called \"Employee\" with attributes like \"name\" and \"salary.\"\n",
        "Derive two classes, \"Manager\" and \"Developer,\" from \"Employee.\" Add an additional\n",
        "attribute called \"department\" for the \"Manager\" class and \"programming_language\"\n",
        "for the \"Developer\" class."
      ],
      "metadata": {
        "id": "cMxhBLFu0bAr"
      }
    },
    {
      "cell_type": "code",
      "source": [
        "class Employee:\n",
        "    def __init__(self, name, salary):\n",
        "        self.name = name\n",
        "        self.salary = salary\n",
        "\n",
        "    def display_info(self):\n",
        "        print(f\"Name: {self.name}\")\n",
        "        print(f\"Salary: ${self.salary}\")\n",
        "\n",
        "\n",
        "class Manager(Employee):\n",
        "    def __init__(self, name, salary, department):\n",
        "        super().__init__(name, salary)\n",
        "        self.department = department\n",
        "\n",
        "    def display_info(self):\n",
        "        super().display_info()\n",
        "        print(f\"Department: {self.department}\")\n",
        "\n",
        "\n",
        "class Developer(Employee):\n",
        "    def __init__(self, name, salary, programming_language):\n",
        "        super().__init__(name, salary)\n",
        "        self.programming_language = programming_language\n",
        "\n",
        "    def display_info(self):\n",
        "        super().display_info()\n",
        "        print(f\"Programming Language: {self.programming_language}\")\n",
        "\n",
        "employee1 = Employee(\"John Doe\", 60000)\n",
        "employee1.display_info()\n",
        "\n",
        "print(\"\\n\")\n",
        "\n",
        "manager1 = Manager(\"Jane Smith\", 80000, \"IT\")\n",
        "manager1.display_info()\n",
        "\n",
        "print(\"\\n\")\n",
        "\n",
        "developer1 = Developer(\"Alex Johnson\", 70000, \"Python\")\n",
        "developer1.display_info()"
      ],
      "metadata": {
        "colab": {
          "base_uri": "https://localhost:8080/"
        },
        "id": "rhucJT8z0fVE",
        "outputId": "72ac1003-31ec-432c-feca-b442200eee81"
      },
      "execution_count": 6,
      "outputs": [
        {
          "output_type": "stream",
          "name": "stdout",
          "text": [
            "Name: John Doe\n",
            "Salary: $60000\n",
            "\n",
            "\n",
            "Name: Jane Smith\n",
            "Salary: $80000\n",
            "Department: IT\n",
            "\n",
            "\n",
            "Name: Alex Johnson\n",
            "Salary: $70000\n",
            "Programming Language: Python\n"
          ]
        }
      ]
    },
    {
      "cell_type": "markdown",
      "source": [
        "8. Design a base class called \"Shape\" with attributes like \"colour\" and \"border_width.\"\n",
        "Create derived classes, \"Rectangle\" and \"Circle,\" that inherit from \"Shape\" and add\n",
        "specific attributes like \"length\" and \"width\" for the \"Rectangle\" class and \"radius\" for\n",
        "the \"Circle\" class."
      ],
      "metadata": {
        "id": "ESNwNrKb0x2T"
      }
    },
    {
      "cell_type": "code",
      "source": [
        "class Shape:\n",
        "    def __init__(self, colour, border_width):\n",
        "        self.colour = colour\n",
        "        self.border_width = border_width\n",
        "\n",
        "    def display_info(self):\n",
        "        print(f\"Colour: {self.colour}\")\n",
        "        print(f\"Border Width: {self.border_width}\")\n",
        "\n",
        "\n",
        "class Rectangle(Shape):\n",
        "    def __init__(self, colour, border_width, length, width):\n",
        "        super().__init__(colour, border_width)\n",
        "        self.length = length\n",
        "        self.width = width\n",
        "\n",
        "    def display_info(self):\n",
        "        super().display_info()\n",
        "        print(f\"Length: {self.length}\")\n",
        "        print(f\"Width: {self.width}\")\n",
        "        print(f\"Area: {self.calculate_area()}\")\n",
        "\n",
        "    def calculate_area(self):\n",
        "        return self.length * self.width\n",
        "\n",
        "\n",
        "class Circle(Shape):\n",
        "    def __init__(self, colour, border_width, radius):\n",
        "        super().__init__(colour, border_width)\n",
        "        self.radius = radius\n",
        "\n",
        "    def display_info(self):\n",
        "        super().display_info()\n",
        "        print(f\"Radius: {self.radius}\")\n",
        "        print(f\"Area: {self.calculate_area()}\")\n",
        "\n",
        "    def calculate_area(self):\n",
        "        import math\n",
        "        return math.pi * self.radius ** 2\n",
        "\n",
        "rectangle1 = Rectangle(\"Blue\", 2, 5, 8)\n",
        "rectangle1.display_info()\n",
        "\n",
        "print(\"\\n\")\n",
        "\n",
        "circle1 = Circle(\"Red\", 1, 4)\n",
        "circle1.display_info()"
      ],
      "metadata": {
        "colab": {
          "base_uri": "https://localhost:8080/"
        },
        "id": "w83eg7zx1DBZ",
        "outputId": "c84057e2-5034-4520-9a17-0b6d80a850ea"
      },
      "execution_count": 7,
      "outputs": [
        {
          "output_type": "stream",
          "name": "stdout",
          "text": [
            "Colour: Blue\n",
            "Border Width: 2\n",
            "Length: 5\n",
            "Width: 8\n",
            "Area: 40\n",
            "\n",
            "\n",
            "Colour: Red\n",
            "Border Width: 1\n",
            "Radius: 4\n",
            "Area: 50.26548245743669\n"
          ]
        }
      ]
    },
    {
      "cell_type": "markdown",
      "source": [
        "9. Create a base class called \"Device\" with attributes like \"brand\" and \"model.\" Derive\n",
        "two classes, \"Phone\" and \"Tablet,\" from \"Device.\" Add specific attributes like\n",
        "\"screen_size\" for the \"Phone\" class and \"battery_capacity\" for the \"Tablet\" class."
      ],
      "metadata": {
        "id": "AomxjZsa4Sb8"
      }
    },
    {
      "cell_type": "code",
      "source": [
        "class Device:\n",
        "    def __init__(self, brand, model):\n",
        "        self.brand = brand\n",
        "        self.model = model\n",
        "\n",
        "    def display_info(self):\n",
        "        print(f\"Brand: {self.brand}\")\n",
        "        print(f\"Model: {self.model}\")\n",
        "\n",
        "\n",
        "class Phone(Device):\n",
        "    def __init__(self, brand, model, screen_size):\n",
        "        super().__init__(brand, model)\n",
        "        self.screen_size = screen_size\n",
        "\n",
        "    def display_info(self):\n",
        "        super().display_info()\n",
        "        print(f\"Screen Size: {self.screen_size}\")\n",
        "\n",
        "\n",
        "class Tablet(Device):\n",
        "    def __init__(self, brand, model, battery_capacity):\n",
        "        super().__init__(brand, model)\n",
        "        self.battery_capacity = battery_capacity\n",
        "\n",
        "    def display_info(self):\n",
        "        super().display_info()\n",
        "        print(f\"Battery Capacity: {self.battery_capacity} mAh\")\n",
        "\n",
        "phone1 = Phone(\"Samsung\", \"Galaxy S21\", \"6.2 inches\")\n",
        "phone1.display_info()\n",
        "\n",
        "print(\"\\n\")\n",
        "\n",
        "tablet1 = Tablet(\"Apple\", \"iPad Pro\", 10000)\n",
        "tablet1.display_info()"
      ],
      "metadata": {
        "colab": {
          "base_uri": "https://localhost:8080/"
        },
        "id": "eH8r_1II4T67",
        "outputId": "40e39342-a568-4591-98c7-b6244df32371"
      },
      "execution_count": 1,
      "outputs": [
        {
          "output_type": "stream",
          "name": "stdout",
          "text": [
            "Brand: Samsung\n",
            "Model: Galaxy S21\n",
            "Screen Size: 6.2 inches\n",
            "\n",
            "\n",
            "Brand: Apple\n",
            "Model: iPad Pro\n",
            "Battery Capacity: 10000 mAh\n"
          ]
        }
      ]
    },
    {
      "cell_type": "markdown",
      "source": [
        "10. Create a base class called \"BankAccount\" with attributes like \"account_number\" and\n",
        "\"balance.\" Derive two classes, \"SavingsAccount\" and \"CheckingAccount,\" from\n",
        "\"BankAccount.\" Add specific methods like \"calculate_interest\" for the\n",
        "\"SavingsAccount\" class and \"deduct_fees\" for the \"CheckingAccount\" class."
      ],
      "metadata": {
        "id": "xEHarqbS5Dzp"
      }
    },
    {
      "cell_type": "code",
      "source": [
        "class BankAccount:\n",
        "    def __init__(self, account_number, balance):\n",
        "        self.account_number = account_number\n",
        "        self.balance = balance\n",
        "\n",
        "    def display_info(self):\n",
        "        print(f\"Account Number: {self.account_number}\")\n",
        "        print(f\"Balance: ${self.balance:.2f}\")\n",
        "\n",
        "\n",
        "class SavingsAccount(BankAccount):\n",
        "    def calculate_interest(self, interest_rate):\n",
        "        interest = self.balance * (interest_rate / 100)\n",
        "        self.balance += interest\n",
        "        print(f\"Interest of ${interest:.2f} calculated and added to the account.\")\n",
        "\n",
        "class CheckingAccount(BankAccount):\n",
        "    def deduct_fees(self, fee_amount):\n",
        "        if self.balance >= fee_amount:\n",
        "            self.balance -= fee_amount\n",
        "            print(f\"Fees of ${fee_amount:.2f} deducted from the account.\")\n",
        "        else:\n",
        "            print(\"Insufficient funds to deduct fees.\")\n",
        "\n",
        "savings_account = SavingsAccount(\"123456\", 1000.0)\n",
        "savings_account.display_info()\n",
        "savings_account.calculate_interest(2.5)\n",
        "savings_account.display_info()\n",
        "\n",
        "print(\"\\n\")\n",
        "\n",
        "checking_account = CheckingAccount(\"987654\", 1500.0)\n",
        "checking_account.display_info()\n",
        "checking_account.deduct_fees(10.0)\n",
        "checking_account.display_info()"
      ],
      "metadata": {
        "colab": {
          "base_uri": "https://localhost:8080/"
        },
        "id": "X86nuyJe5J0x",
        "outputId": "b18c6cb4-eeaf-48f9-c1e5-c02c6a7620f5"
      },
      "execution_count": 2,
      "outputs": [
        {
          "output_type": "stream",
          "name": "stdout",
          "text": [
            "Account Number: 123456\n",
            "Balance: $1000.00\n",
            "Interest of $25.00 calculated and added to the account.\n",
            "Account Number: 123456\n",
            "Balance: $1025.00\n",
            "\n",
            "\n",
            "Account Number: 987654\n",
            "Balance: $1500.00\n",
            "Fees of $10.00 deducted from the account.\n",
            "Account Number: 987654\n",
            "Balance: $1490.00\n"
          ]
        }
      ]
    }
  ]
}