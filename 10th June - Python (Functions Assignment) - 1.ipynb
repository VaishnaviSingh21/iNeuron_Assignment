{
  "nbformat": 4,
  "nbformat_minor": 0,
  "metadata": {
    "colab": {
      "provenance": []
    },
    "kernelspec": {
      "name": "python3",
      "display_name": "Python 3"
    },
    "language_info": {
      "name": "python"
    }
  },
  "cells": [
    {
      "cell_type": "markdown",
      "source": [
        "1. In Python, what is the difference between a built-in function and a user-defined function? Provide an\n",
        "example of each.\n",
        "\n",
        "Built-in Functions:\n",
        "\n",
        "Built-in functions are functions that come pre-defined in Python. These functions are part of the Python standard library, and you can use them directly without having to define them yourself. Examples include print(), len(), type(), and many others.\n",
        "\n",
        "User-Defined Functions:\n",
        "\n",
        "User-defined functions are functions that you create yourself to perform specific tasks. You define the function using the def keyword, and you can then call the function as needed. User-defined functions are useful for organizing code and reusing the same logic in different parts of your program."
      ],
      "metadata": {
        "id": "R0SieRc7VZF8"
      }
    },
    {
      "cell_type": "code",
      "source": [
        "# Example of the built-in function print()\n",
        "message = \"Hello, World!\"\n",
        "print(message)\n",
        "\n",
        "# Example of a user-defined function\n",
        "def greet(name):\n",
        "    \"\"\"This function takes a name as an argument and prints a greeting.\"\"\"\n",
        "    print(f\"Hello, {name}!\")\n",
        "\n",
        "greet(\"Alice\")\n"
      ],
      "metadata": {
        "colab": {
          "base_uri": "https://localhost:8080/"
        },
        "id": "19TwdbflZWuh",
        "outputId": "4d85f4c5-f687-4957-ec61-987e6620bde8"
      },
      "execution_count": 1,
      "outputs": [
        {
          "output_type": "stream",
          "name": "stdout",
          "text": [
            "Hello, World!\n",
            "Hello, Alice!\n"
          ]
        }
      ]
    },
    {
      "cell_type": "markdown",
      "source": [
        "2. How can you pass arguments to a function in Python? Explain the difference between positional\n",
        "arguments and keyword arguments.\n",
        "\n",
        "Passing Arguments to a Function:\n",
        "\n",
        "Positional Arguments:\n",
        "\n",
        "Positional arguments are passed to a function based on their position or order in the function definition. The order of the arguments in the function call must match the order of the parameters in the function definition.\n",
        "\n",
        "Keyword Arguments:\n",
        "\n",
        "Keyword arguments are passed with the parameter names explicitly specified. This allows you to pass the arguments in a different order or skip some arguments.\n",
        "\n",
        "Default Values:\n",
        "\n",
        "Function parameters can have default values. If an argument is not provided in the function call, the default value is used.\n",
        "\n",
        "Difference between Positional and Keyword Arguments:\n",
        "\n",
        "Positional Arguments:\n",
        "\n",
        "Arguments are passed based on their position.\n",
        "Order matters; the order of arguments in the function call must match the order of parameters in the function definition.\n",
        "Default values can be used for some parameters.\n",
        "\n",
        "Keyword Arguments:\n",
        "\n",
        "Arguments are passed with the parameter names explicitly specified.\n",
        "Order doesn't matter; arguments can be provided in any order.\n",
        "Default values can be overridden by explicitly providing values for specific parameters."
      ],
      "metadata": {
        "id": "D4bsdpRDZiO-"
      }
    },
    {
      "cell_type": "code",
      "source": [
        "# Passing positional arguments\n",
        "def add_numbers(a, b):\n",
        "    \"\"\"This function adds two numbers.\"\"\"\n",
        "    result = a + b\n",
        "    return result\n",
        "\n",
        "sum_result = add_numbers(3, 5)\n",
        "print(sum_result)  # Output: 8\n",
        "\n",
        "\n",
        "# Passing keyword arguments\n",
        "def greet(name, greeting):\n",
        "    \"\"\"This function greets a person.\"\"\"\n",
        "    message = f\"{greeting}, {name}!\"\n",
        "    return message\n",
        "\n",
        "greeting_message = greet(greeting=\"Hello\", name=\"Alice\")\n",
        "print(greeting_message)  # Output: Hello, Alice!\n",
        "\n",
        "\n",
        "# Using default value for exponent\n",
        "def power(base, exponent=2):\n",
        "    \"\"\"This function calculates the power of a number with an optional exponent.\"\"\"\n",
        "    result = base ** exponent\n",
        "    return result\n",
        "\n",
        "result_default = power(3)\n",
        "print(result_default)  # Output: 9\n",
        "\n",
        "result_custom = power(3, exponent=3)\n",
        "print(result_custom)   # Output: 27\n"
      ],
      "metadata": {
        "colab": {
          "base_uri": "https://localhost:8080/"
        },
        "id": "9ujsYi-PbXWq",
        "outputId": "4a1ed8eb-46a6-4dfa-91ad-d70369225f32"
      },
      "execution_count": 2,
      "outputs": [
        {
          "output_type": "stream",
          "name": "stdout",
          "text": [
            "8\n",
            "Hello, Alice!\n",
            "9\n",
            "27\n"
          ]
        }
      ]
    },
    {
      "cell_type": "markdown",
      "source": [
        "3. What is the purpose of the return statement in a function? Can a function have multiple return\n",
        "statements? Explain with an example.\n",
        "\n",
        "The return statement in a function is used to specify the value(s) that the function should return to the caller. When a function is called, it can perform a series of operations and calculations, and the result can be passed back to the calling code using the return statement.\n",
        "\n",
        "Purpose of the return Statement:\n",
        "\n",
        "Returning a Value:\n",
        "\n",
        "The primary purpose of the return statement is to send a value back to the caller. This value can be a single value, a tuple, a list, or any other data type.\n",
        "\n",
        "Exiting the Function:\n",
        "\n",
        "The return statement also serves as a way to exit the function. Once a return statement is encountered, the function stops executing, and control is returned to the calling code."
      ],
      "metadata": {
        "id": "xeVMm8QtbvIF"
      }
    },
    {
      "cell_type": "code",
      "source": [
        "def add_numbers(a, b):\n",
        "    \"\"\"This function adds two numbers and returns the result.\"\"\"\n",
        "    result = a + b\n",
        "    return result  # This value is returned to the caller\n",
        "\n",
        "# Calling the function and capturing the result\n",
        "sum_result = add_numbers(3, 5)\n",
        "print(sum_result)  # Output: 8"
      ],
      "metadata": {
        "colab": {
          "base_uri": "https://localhost:8080/"
        },
        "id": "ehHoWo3vcMsA",
        "outputId": "81a92a65-e8b3-4f1d-a944-8f5d71ebca8c"
      },
      "execution_count": 3,
      "outputs": [
        {
          "output_type": "stream",
          "name": "stdout",
          "text": [
            "8\n"
          ]
        }
      ]
    },
    {
      "cell_type": "markdown",
      "source": [
        "4. What are lambda functions in Python? How are they different from regular functions? Provide an\n",
        "example where a lambda function can be useful.\n",
        "\n",
        "Lambda function is a concise way to create anonymous or inline functions. Unlike regular functions created using the def keyword, lambda functions are defined using the lambda keyword. Lambda functions are often used for short, simple operations where a full function definition would be unnecessarily verbose.\n",
        "\n",
        "Differences between Lambda Functions and Regular Functions:\n",
        "\n",
        "Anonymous Nature:\n",
        "\n",
        "Lambda functions are anonymous, meaning they are not assigned a name like regular functions. They are often used for short-lived operations without the need for a formal function definition.\n",
        "Syntax and Conciseness:\n",
        "\n",
        "Lambda functions have a more concise syntax compared to regular functions. They are suitable for simple operations with a single expression.\n",
        "Single Expression:\n",
        "\n",
        "Lambda functions are limited to a single expression. In contrast, regular functions can have multiple expressions and statements.\n",
        "Return Statement:\n",
        "\n",
        "Lambda functions implicitly return the value of the expression. Regular functions use the return statement to specify the return value explicitly."
      ],
      "metadata": {
        "id": "L0jszvwPcQR6"
      }
    },
    {
      "cell_type": "code",
      "source": [
        "students = [('Alice', 85), ('Bob', 92), ('Charlie', 78), ('David', 95)]\n",
        "\n",
        "sorted_students = sorted(students, key=lambda student: student[1], reverse=True)\n",
        "\n",
        "print(sorted_students)"
      ],
      "metadata": {
        "colab": {
          "base_uri": "https://localhost:8080/"
        },
        "id": "PJbnG32kdaw6",
        "outputId": "550c6305-b9b8-402b-d6ee-89500989dd9b"
      },
      "execution_count": 4,
      "outputs": [
        {
          "output_type": "stream",
          "name": "stdout",
          "text": [
            "[('David', 95), ('Bob', 92), ('Alice', 85), ('Charlie', 78)]\n"
          ]
        }
      ]
    },
    {
      "cell_type": "markdown",
      "source": [
        "5. How does the concept of \"scope\" apply to functions in Python? Explain the difference between local\n",
        "scope and global scope.\n",
        "\n",
        "The concept of \"scope\" refers to the region or context in which a variable is defined and can be accessed. The scope determines the visibility and lifetime of a variable. Python has two main types of scope: local scope and global scope.\n",
        "\n",
        "Local vs. Global Scope:\n",
        "\n",
        "Access:\n",
        "\n",
        "Local variables are accessible only within the function where they are defined.\n",
        "Global variables can be accessed from any part of the code, including within functions.\n",
        "\n",
        "Modification:\n",
        "\n",
        "Local variables can be modified only within the function where they are defined.\n",
        "Global variables can be modified from any part of the code, including within functions. However, if a function wants to modify a global variable, it needs to use the global keyword.\n",
        "\n",
        "Name Clashes:\n",
        "\n",
        "If a local variable has the same name as a global variable, the local variable takes precedence within the function.\n",
        "\n",
        "Function Parameters:\n",
        "\n",
        "Parameters of a function also have local scope within the function, and their names do not clash with global variables."
      ],
      "metadata": {
        "id": "8ziO4jF2dijG"
      }
    },
    {
      "cell_type": "code",
      "source": [
        "# Global variable\n",
        "global_var = \"I am global!\"\n",
        "\n",
        "def example_function(local_var):\n",
        "    # Local variable with the same name as the global variable\n",
        "    global_var = \"I am local!\"\n",
        "    print(local_var)  # Accessing function parameter\n",
        "    print(global_var)  # Accessing local variable with the same name\n",
        "\n",
        "# Calling the function\n",
        "example_function(\"I am a parameter!\")\n",
        "print(global_var)  # Accessing the global variable"
      ],
      "metadata": {
        "colab": {
          "base_uri": "https://localhost:8080/"
        },
        "id": "NrimDS_ufxtq",
        "outputId": "1e8c1572-1b3f-4a38-c77c-3eb84d4608db"
      },
      "execution_count": 6,
      "outputs": [
        {
          "output_type": "stream",
          "name": "stdout",
          "text": [
            "I am a parameter!\n",
            "I am local!\n",
            "I am global!\n"
          ]
        }
      ]
    },
    {
      "cell_type": "markdown",
      "source": [
        "6. How can you use the \"return\" statement in a Python function to return multiple values?\n",
        "\n",
        "The return statement can be used to return multiple values from a function by returning them as a tuple. A tuple is an ordered and immutable sequence, and it can contain multiple elements. By using the return statement with a tuple, a function can effectively return multiple values."
      ],
      "metadata": {
        "id": "HlsEwCVef1B2"
      }
    },
    {
      "cell_type": "code",
      "source": [
        "def get_rectangle_properties(length, width):\n",
        "    \"\"\"Calculate and return multiple properties of a rectangle.\"\"\"\n",
        "    area = length * width\n",
        "    perimeter = 2 * (length + width)\n",
        "    diagonal = (length**2 + width**2)**0.5\n",
        "\n",
        "    # Returning multiple values as a tuple\n",
        "    return area, perimeter, diagonal\n",
        "\n",
        "rectangle_area, rectangle_perimeter, rectangle_diagonal = get_rectangle_properties(4, 3)\n",
        "\n",
        "print(\"Area:\", rectangle_area)\n",
        "print(\"Perimeter:\", rectangle_perimeter)\n",
        "print(\"Diagonal:\", rectangle_diagonal)"
      ],
      "metadata": {
        "colab": {
          "base_uri": "https://localhost:8080/"
        },
        "id": "7IyY1whnhMyJ",
        "outputId": "0328974c-a650-4753-e08f-58ec9a16f09e"
      },
      "execution_count": 7,
      "outputs": [
        {
          "output_type": "stream",
          "name": "stdout",
          "text": [
            "Area: 12\n",
            "Perimeter: 14\n",
            "Diagonal: 5.0\n"
          ]
        }
      ]
    },
    {
      "cell_type": "markdown",
      "source": [
        "7. What is the difference between the \"pass by value\" and \"pass by reference\" concepts when it\n",
        "comes to function arguments in Python?\n",
        "\n",
        "Pass by Value:\n",
        "\n",
        "In \"pass by value,\" the actual values of the arguments are passed to the function.\n",
        "A copy of the value is made, and modifications to the parameter inside the function do not affect the original variable.\n",
        "\n",
        "Immutable objects, such as numbers and strings, are passed by value in Python.\n",
        "Reassignment inside the function creates a new object, and the original variable remains unchanged.\n",
        "\n",
        "Pass by Object Reference:\n",
        "\n",
        "In \"pass by object reference\" in Python, references to objects are passed to the function.\n",
        "For mutable objects, modifications to the object inside the function affect the original object outside the function.\n",
        "\n",
        "Mutable objects, such as lists and dictionaries, are passed by object reference.\n",
        "Changes to the object inside the function are visible outside the function."
      ],
      "metadata": {
        "id": "XccwwktHhiUu"
      }
    },
    {
      "cell_type": "code",
      "source": [
        "#pass by value\n",
        "def modify_value(x):\n",
        "    x = 100\n",
        "\n",
        "value = 5\n",
        "modify_value(value)\n",
        "\n",
        "#pass by refrence\n",
        "def modify_list(my_list):\n",
        "    my_list.append(4)\n",
        "    my_list[0] = 99\n",
        "\n",
        "original_list = [1, 2, 3]\n",
        "modify_list(original_list)"
      ],
      "metadata": {
        "id": "slhZcWIjmCjk"
      },
      "execution_count": 8,
      "outputs": []
    },
    {
      "cell_type": "markdown",
      "source": [
        "Create a function that can intake integer or decimal value and do following operations:\n",
        "a. Logarithmic function (log x)\n",
        "b. Exponential function (exp(x))\n",
        "c. Power function with base 2 (2^x)\n",
        "d. Square root"
      ],
      "metadata": {
        "id": "5K_31TdomUp7"
      }
    },
    {
      "cell_type": "code",
      "source": [
        "import math\n",
        "\n",
        "def mathematical_operations(x):\n",
        "    \"\"\"\n",
        "    Perform logarithmic, exponential, power (base 2), and square root operations on the input.\n",
        "\n",
        "    Parameters:\n",
        "    - x (int or float): Input value\n",
        "\n",
        "    Returns:\n",
        "    - tuple: Results of logarithmic, exponential, power (base 2), and square root operations\n",
        "    \"\"\"\n",
        "    logarithmic_result = math.log(x)\n",
        "\n",
        "    exponential_result = math.exp(x)\n",
        "\n",
        "    power_result = 2**x\n",
        "\n",
        "    square_root_result = math.sqrt(x)\n",
        "\n",
        "    return logarithmic_result, exponential_result, power_result, square_root_result\n",
        "\n",
        "input_value = 4.0\n",
        "results = mathematical_operations(input_value)\n",
        "\n",
        "print(f\"Logarithmic result: {results[0]}\")\n",
        "print(f\"Exponential result: {results[1]}\")\n",
        "print(f\"Power (base 2) result: {results[2]}\")\n",
        "print(f\"Square root result: {results[3]}\")"
      ],
      "metadata": {
        "colab": {
          "base_uri": "https://localhost:8080/"
        },
        "id": "W8ORxvZ7nD9x",
        "outputId": "bec8ddca-a46e-40e3-da89-84e7820d2030"
      },
      "execution_count": 9,
      "outputs": [
        {
          "output_type": "stream",
          "name": "stdout",
          "text": [
            "Logarithmic result: 1.3862943611198906\n",
            "Exponential result: 54.598150033144236\n",
            "Power (base 2) result: 16.0\n",
            "Square root result: 2.0\n"
          ]
        }
      ]
    },
    {
      "cell_type": "markdown",
      "source": [
        "9. Create a function that takes a full name as an argument and returns first name and last name."
      ],
      "metadata": {
        "id": "btZBMjOUnnH-"
      }
    },
    {
      "cell_type": "code",
      "source": [
        "def extract_names(full_name):\n",
        "    \"\"\"\n",
        "    Extract first name and last name from a full name.\n",
        "\n",
        "    Parameters:\n",
        "    - full_name (str): Full name containing first name and last name.\n",
        "\n",
        "    Returns:\n",
        "    - tuple: First name and last name.\n",
        "    \"\"\"\n",
        "    name_parts = full_name.split()\n",
        "\n",
        "    if len(name_parts) >= 2:\n",
        "        first_name = name_parts[0]\n",
        "        last_name = ' '.join(name_parts[1:])\n",
        "    else:\n",
        "        first_name = name_parts[0]\n",
        "        last_name = ''\n",
        "\n",
        "    return first_name, last_name\n",
        "\n",
        "full_name_input = \"John Doe\"\n",
        "first_name_result, last_name_result = extract_names(full_name_input)\n",
        "\n",
        "print(f\"First Name: {first_name_result}\")\n",
        "print(f\"Last Name: {last_name_result}\")"
      ],
      "metadata": {
        "colab": {
          "base_uri": "https://localhost:8080/"
        },
        "id": "HKuZqdpPns7k",
        "outputId": "07f166bc-63b9-49d7-cc9e-fc51249cbf4b"
      },
      "execution_count": 10,
      "outputs": [
        {
          "output_type": "stream",
          "name": "stdout",
          "text": [
            "First Name: John\n",
            "Last Name: Doe\n"
          ]
        }
      ]
    }
  ]
}