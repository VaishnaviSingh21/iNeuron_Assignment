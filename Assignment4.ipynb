{
  "nbformat": 4,
  "nbformat_minor": 0,
  "metadata": {
    "colab": {
      "provenance": []
    },
    "kernelspec": {
      "name": "python3",
      "display_name": "Python 3"
    },
    "language_info": {
      "name": "python"
    }
  },
  "cells": [
    {
      "cell_type": "markdown",
      "source": [
        "1. What exactly is []?\n",
        "\n",
        "These square brackets are known as index brackets, it used to define lists and indexing."
      ],
      "metadata": {
        "id": "U2TAzDxqxMXD"
      }
    },
    {
      "cell_type": "markdown",
      "source": [
        "2. In a list of values stored in a variable called spam, how would you assign the value 'hello' as the third value? (Assume [2, 4, 6, 8, 10] are in spam.)\n",
        "\n"
      ],
      "metadata": {
        "id": "nhasgcwyxRPg"
      }
    },
    {
      "cell_type": "code",
      "source": [
        "spam= [2, 4, 6, 8, 10]\n",
        "spam.insert(2, 'hello')\n",
        "print(spam)"
      ],
      "metadata": {
        "colab": {
          "base_uri": "https://localhost:8080/"
        },
        "id": "AwQLlvnHxTtE",
        "outputId": "5bc3ddc6-893f-4525-ab94-b3a2533d62dc"
      },
      "execution_count": 1,
      "outputs": [
        {
          "output_type": "stream",
          "name": "stdout",
          "text": [
            "[2, 4, 'hello', 6, 8, 10]\n"
          ]
        }
      ]
    },
    {
      "cell_type": "markdown",
      "source": [
        "Let's pretend the spam includes the list ['a', 'b', 'c', 'd'] for the next three queries.\n",
        "\n",
        "3. What is the value of spam[int(int('3' * 2) / 11)]?"
      ],
      "metadata": {
        "id": "0_i7r2ItxfJw"
      }
    },
    {
      "cell_type": "code",
      "source": [
        "spam= ['a', 'b', 'c', 'd']\n",
        "a=spam[int(int('3' * 2) / 11)]\n",
        "print(a)"
      ],
      "metadata": {
        "colab": {
          "base_uri": "https://localhost:8080/"
        },
        "id": "79Ax7PytxiRa",
        "outputId": "16071415-53b1-402c-978d-1bfaef7acb35"
      },
      "execution_count": 2,
      "outputs": [
        {
          "output_type": "stream",
          "name": "stdout",
          "text": [
            "d\n"
          ]
        }
      ]
    },
    {
      "cell_type": "markdown",
      "source": [
        "4. What is the value of spam[-1]?\n",
        "\n"
      ],
      "metadata": {
        "id": "VgKJ_Lftxqhz"
      }
    },
    {
      "cell_type": "code",
      "source": [
        "spam= ['a', 'b', 'c', 'd']\n",
        "a=spam[-1]\n",
        "print(a)"
      ],
      "metadata": {
        "colab": {
          "base_uri": "https://localhost:8080/"
        },
        "id": "ZsgxHT4ZxtjO",
        "outputId": "45223081-849c-4f5e-a356-8c594080db7a"
      },
      "execution_count": 3,
      "outputs": [
        {
          "output_type": "stream",
          "name": "stdout",
          "text": [
            "d\n"
          ]
        }
      ]
    },
    {
      "cell_type": "markdown",
      "source": [
        "5. What is the value of spam[:2]?\n",
        "\n"
      ],
      "metadata": {
        "id": "K9Jy4xzwxzLV"
      }
    },
    {
      "cell_type": "code",
      "source": [
        "spam= ['a', 'b', 'c', 'd']\n",
        "a=spam[:2]\n",
        "print(a)"
      ],
      "metadata": {
        "colab": {
          "base_uri": "https://localhost:8080/"
        },
        "id": "ql9NsFEMx1CS",
        "outputId": "a0c97547-cc8e-4987-b7f3-9ae409a9f3a3"
      },
      "execution_count": 4,
      "outputs": [
        {
          "output_type": "stream",
          "name": "stdout",
          "text": [
            "['a', 'b']\n"
          ]
        }
      ]
    },
    {
      "cell_type": "markdown",
      "source": [
        "Let's pretend bacon has the list [3.14, 'cat,' 11, 'cat,' True] for the next three questions.\n",
        "\n",
        "6. What is the value of bacon.index('cat')?"
      ],
      "metadata": {
        "id": "q1lV9jVNx8GY"
      }
    },
    {
      "cell_type": "code",
      "source": [
        "bacon=[3.14, 'cat', 11, 'cat', True]\n",
        "a=bacon.index('cat')\n",
        "print(a)"
      ],
      "metadata": {
        "colab": {
          "base_uri": "https://localhost:8080/"
        },
        "id": "8EzdBIPvx8xo",
        "outputId": "0f3b1bc6-513e-4a0a-a092-fadd2b9a610b"
      },
      "execution_count": 5,
      "outputs": [
        {
          "output_type": "stream",
          "name": "stdout",
          "text": [
            "1\n"
          ]
        }
      ]
    },
    {
      "cell_type": "markdown",
      "source": [
        "7. How does bacon.append(99) change the look of the list value in bacon?\n",
        "\n"
      ],
      "metadata": {
        "id": "Hu1fnPTTyBIr"
      }
    },
    {
      "cell_type": "code",
      "source": [
        "bacon=[3.14, 'cat', 11, 'cat', True]\n",
        "bacon.append(99)\n",
        "print(bacon)"
      ],
      "metadata": {
        "colab": {
          "base_uri": "https://localhost:8080/"
        },
        "id": "deKbgedbyDDk",
        "outputId": "9ddae8d0-7f33-4a66-85e0-a651a932f8ce"
      },
      "execution_count": 6,
      "outputs": [
        {
          "output_type": "stream",
          "name": "stdout",
          "text": [
            "[3.14, 'cat', 11, 'cat', True, 99]\n"
          ]
        }
      ]
    },
    {
      "cell_type": "markdown",
      "source": [
        "8. How does bacon.remove('cat') change the look of the list in bacon?\n",
        "\n"
      ],
      "metadata": {
        "id": "R4ek3bVcyJV5"
      }
    },
    {
      "cell_type": "code",
      "source": [
        "bacon=[3.14, 'cat', 11, 'cat', True]\n",
        "bacon.remove('cat')\n",
        "print(bacon)"
      ],
      "metadata": {
        "colab": {
          "base_uri": "https://localhost:8080/"
        },
        "id": "OvLzzVXcyKKq",
        "outputId": "74ad560f-1b5f-44a9-fcc6-cb917eec7d62"
      },
      "execution_count": 7,
      "outputs": [
        {
          "output_type": "stream",
          "name": "stdout",
          "text": [
            "[3.14, 11, 'cat', True]\n"
          ]
        }
      ]
    },
    {
      "cell_type": "markdown",
      "source": [
        "9. What are the list concatenation and list replication operators?\n",
        "\n",
        "The list concatenation and list replication operators are ‘+’ and ‘*’.\n",
        "\n",
        "10. What is difference between the list methods append() and insert()?\n",
        "\n",
        "Append() method is used to add the values to the list, but it adds the value at the end of the list.\n",
        "\n",
        "Insert() method is used to add the values to the list, but it adds the value at the desired position(index).\n",
        "\n",
        "11. What are the two methods for removing items from a list?\n",
        "\n",
        "To remove items for list two methods are: remove() and clear().\n",
        "\n",
        "12. Describe how list values and string values are identical.\n",
        "\n",
        "Values in lists and string are identical as they are ordered.\n",
        "\n",
        "Both lists and strings can be passed to len() function, have indexes and slices, be used in for loops, be concatenated or replicated, and be used with the in and not in operators.\n",
        "\n",
        "13. What's the difference between tuples and lists?\n",
        "\n",
        "Tuples are not mutable whereas lists are mutable.\n",
        "\n",
        "14. How do you type a tuple value that only contains the integer 42?\n",
        "\n",
        "It will be written as (42,) where the trailing comma is mandatory otherwise it’ll be considered as integer.\n",
        "\n",
        "15. How do you get a list value's tuple form? How do you get a tuple value's list form?\n",
        "\n",
        "The tuple() and list() functions, respectively are used to convert a list to tuple and vice versa\n",
        "\n",
        "16. Variables that \"contain\" list values are not necessarily lists themselves. Instead, what do they contain?\n",
        "\n",
        "They contain references to the list value.\n",
        "\n",
        "17. How do you distinguish between copy.copy() and copy.deepcopy()?\n",
        "\n",
        "Copy.copy() (shallow copy) stores the copy of the original object and points the references to the objects. It doesn't create a copy of nested objects; instead it just copies the references to the nested objects\n",
        "\n",
        "Copy.deepcopy() (Deep copy) stores the copy of the original object and recursively copies the objects as well. It copies all the nested objects recursively. a, b, c, d, a1, b1, c1 and d1 are references to objects in memory, which are uniquely identified by their ids."
      ],
      "metadata": {
        "id": "kHrU_KFbyOw8"
      }
    }
  ]
}