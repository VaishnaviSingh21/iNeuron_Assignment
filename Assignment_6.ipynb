{
  "nbformat": 4,
  "nbformat_minor": 0,
  "metadata": {
    "colab": {
      "provenance": []
    },
    "kernelspec": {
      "name": "python3",
      "display_name": "Python 3"
    },
    "language_info": {
      "name": "python"
    }
  },
  "cells": [
    {
      "cell_type": "markdown",
      "source": [
        "Q.1. What are keywords in python? Using the keyword library, print all the python keywords.\n",
        "\n",
        "Keywords are the words that cannot be used for variable names, function name or any other as they are reserved for specific function or roles. For e.g., 'print' kword is used to print the statements.\n"
      ],
      "metadata": {
        "id": "pGRN9Z10jTnd"
      }
    },
    {
      "cell_type": "code",
      "source": [
        "import keyword\n",
        "print(keyword.kwlist)"
      ],
      "metadata": {
        "colab": {
          "base_uri": "https://localhost:8080/"
        },
        "id": "WgeHF0qWKOvY",
        "outputId": "d027d6f2-fc83-40bf-f972-bf6a943d623e"
      },
      "execution_count": 1,
      "outputs": [
        {
          "output_type": "stream",
          "name": "stdout",
          "text": [
            "['False', 'None', 'True', 'and', 'as', 'assert', 'async', 'await', 'break', 'class', 'continue', 'def', 'del', 'elif', 'else', 'except', 'finally', 'for', 'from', 'global', 'if', 'import', 'in', 'is', 'lambda', 'nonlocal', 'not', 'or', 'pass', 'raise', 'return', 'try', 'while', 'with', 'yield']\n"
          ]
        }
      ]
    },
    {
      "cell_type": "markdown",
      "source": [
        "Q.2. What are the rules to create variables in python?\n",
        "\n",
        "To create variables following are the rules:\n",
        "\n",
        "1. The name can be in upper or lower case, can have alphabets, digits and underscores.\n",
        "2. It cannot start with digit or underscore.\n",
        "3. Cannot use keywords as variable names.\n",
        "4. Variable names are case sensitive.\n",
        "\n",
        "Q.3. What are the standards and conventions followed for the nomenclature of variables in python to improve code readability and maintainability?\n",
        "\n",
        "To create variables following are the rules:\n",
        "\n",
        "1. The name can be in upper or lower case, can have alphabets, digits and underscores.\n",
        "2. It cannot start with digit or underscore.\n",
        "3. Cannot use keywords as variable names.\n",
        "4. Variable names are case sensitive.\n",
        "\n",
        "Q.4. What will happen if a keyword is used as a variable name?\n",
        "\n",
        "It'll give an error that \"syntaxerror: invalid syntax\"."
      ],
      "metadata": {
        "id": "BXama-uvKoGG"
      }
    },
    {
      "cell_type": "code",
      "source": [
        "assert= \"The\"\n",
        "print(assert)"
      ],
      "metadata": {
        "colab": {
          "base_uri": "https://localhost:8080/",
          "height": 140
        },
        "id": "0SaRZwkhKpwp",
        "outputId": "ddef952d-3e15-4825-a047-47d8c14d51fb"
      },
      "execution_count": 2,
      "outputs": [
        {
          "output_type": "error",
          "ename": "SyntaxError",
          "evalue": "ignored",
          "traceback": [
            "\u001b[0;36m  File \u001b[0;32m\"<ipython-input-2-4a0f19697574>\"\u001b[0;36m, line \u001b[0;32m1\u001b[0m\n\u001b[0;31m    assert= \"The\"\u001b[0m\n\u001b[0m          ^\u001b[0m\n\u001b[0;31mSyntaxError\u001b[0m\u001b[0;31m:\u001b[0m invalid syntax\n"
          ]
        }
      ]
    },
    {
      "cell_type": "markdown",
      "source": [
        "Q.5. For what purpose def keyword is used?\n",
        "\n",
        "def keyword is used to define the function. It is commonly used in constructors.\n",
        "\n",
        "Q.6. What is the operation of this special character ‘\\’?\n",
        "\n",
        "This special character '\\' is known as escape which is used to represents whitespace characters like \\n: for new line, \\t: for new tab, etc.\n",
        "\n",
        "Q.7. Give an example of the following conditions:\n",
        "(i) Homogeneous list: It contains values of same data type.\n",
        "(ii) Heterogeneous set: It contains values of different data type.\n",
        "(iii) Homogeneous tuple: It contains values of same data type.\n",
        "\n",
        "Q.8. Explain the mutable and immutable data types with proper explanation & examples.\n",
        "\n",
        "Mutable are data types which can be altered like lists, ditionaries and sets.\n",
        "Immutable are data types which cannot be altered like strings and tuples.\n",
        "\n",
        "\n",
        "Q.9. Write a code to create the given structure using only for loop.\n",
        "*\n",
        "***\n",
        "*****\n",
        "*******\n",
        "*********"
      ],
      "metadata": {
        "id": "yFlkFPJwLA5Q"
      }
    },
    {
      "cell_type": "code",
      "source": [
        "n=5\n",
        "for i in range(0,n+1):\n",
        "   for j in range(n-i):\n",
        "    print(\" \", end=\"\")\n",
        "   for k in range(2*i-1):\n",
        "    print(\"*\", end=\"\")\n",
        "   print()"
      ],
      "metadata": {
        "colab": {
          "base_uri": "https://localhost:8080/"
        },
        "id": "9ydJiSuyLMN3",
        "outputId": "ca6576b8-4e9d-43b0-c5e5-9d9c8aa03636"
      },
      "execution_count": 19,
      "outputs": [
        {
          "output_type": "stream",
          "name": "stdout",
          "text": [
            "     \n",
            "    *\n",
            "   ***\n",
            "  *****\n",
            " *******\n",
            "*********\n"
          ]
        }
      ]
    },
    {
      "cell_type": "markdown",
      "source": [
        "Q.10. Write a code to create the given structure using while loop.\n",
        "|||||||||\n",
        "|||||||\n",
        "|||||\n",
        "|||\n",
        "|"
      ],
      "metadata": {
        "id": "HpGJkC95LMlQ"
      }
    },
    {
      "cell_type": "code",
      "source": [
        "n= 5\n",
        "for i in range(1, n+1):\n",
        "    for j in range(i-1):\n",
        "        print(\" \", end=\"\")\n",
        "    for k in range(2*(n-i)+1):\n",
        "        print(\"|\", end=\"\")\n",
        "    print()"
      ],
      "metadata": {
        "colab": {
          "base_uri": "https://localhost:8080/"
        },
        "id": "g46gTcNHLO35",
        "outputId": "fbbe63bd-51e6-4503-b3be-6d4917389ed1"
      },
      "execution_count": 20,
      "outputs": [
        {
          "output_type": "stream",
          "name": "stdout",
          "text": [
            "|||||||||\n",
            " |||||||\n",
            "  |||||\n",
            "   |||\n",
            "    |\n"
          ]
        }
      ]
    }
  ]
}