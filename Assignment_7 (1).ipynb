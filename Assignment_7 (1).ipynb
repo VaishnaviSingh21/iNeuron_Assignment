{
  "nbformat": 4,
  "nbformat_minor": 0,
  "metadata": {
    "colab": {
      "provenance": []
    },
    "kernelspec": {
      "name": "python3",
      "display_name": "Python 3"
    },
    "language_info": {
      "name": "python"
    }
  },
  "cells": [
    {
      "cell_type": "markdown",
      "source": [
        "Q.1. Create two int type variables, apply addition, subtraction, division and multiplications\n",
        "and store the results in variables. Then print the data in the following format by calling the\n",
        "variables:\n",
        "First variable is __ & second variable is __.\n",
        "Addition: __ + __ = __\n",
        "Subtraction: __ - __ = __\n",
        "Multiplication: __ * __ = __\n",
        "Division: __ / __ = __"
      ],
      "metadata": {
        "id": "dgfnwfUtjjg9"
      }
    },
    {
      "cell_type": "code",
      "source": [
        "var1= int(input(\"Enter var1: \"))\n",
        "var2 =int(input(\"Enter var2: \"))\n",
        "print(f\"First variable is {var1} & second variable is {var2}.\")\n",
        "print(f'''Addition: {var1} + {var2} = {var1+var2}\n",
        "Subtraction: {var1} - {var2} = {var1-var2}\n",
        "Multiplication: {var1} * {var2} = {var1*var2}\n",
        "Division: {var1} / {var2} = {var1/var2}''')"
      ],
      "metadata": {
        "colab": {
          "base_uri": "https://localhost:8080/"
        },
        "id": "r3fkCoxM03n7",
        "outputId": "21ebe7d9-78fc-48e7-d01f-e37f3ff29b9c"
      },
      "execution_count": null,
      "outputs": [
        {
          "output_type": "stream",
          "name": "stdout",
          "text": [
            "Enter var1: 8\n",
            "Enter var2: 9\n",
            "First variable is 8 & second variable is 9.\n",
            "Addition: 8 + 9 = 17\n",
            "Subtraction: 8 - 9 = -1\n",
            "Multiplication: 8 * 9 = 72\n",
            "Division: 8 / 9 = 0.8888888888888888\n"
          ]
        }
      ]
    },
    {
      "cell_type": "markdown",
      "source": [
        "\n",
        "\n",
        "Q.2. What is the difference between the following operators:\n",
        "(i) ‘/’ & ‘//’:  '/' is an arithmatic operator used for division, and '//' is also an arithmatic operator but it is known as floor division operator which is used to round of the division result down to the nearest whole number.\n",
        "(ii) ‘**’ & ‘^’: '**' is also an arithmatic operator which is used for exponent(power), and '^' is bitwise operator known as XOR compares each bit and set it to 1 if only one is 1, otherwise (if both are 1 or both are 0) it is set to 0"
      ],
      "metadata": {
        "id": "mvgl1JVu04eJ"
      }
    },
    {
      "cell_type": "code",
      "source": [
        "print(4/5)\n",
        "print(4//5)\n",
        "print(4**2)\n",
        "print(4^2)"
      ],
      "metadata": {
        "colab": {
          "base_uri": "https://localhost:8080/"
        },
        "id": "3zmzG-OA4rIY",
        "outputId": "c1aab951-0972-4a23-8c65-ac7d13604ce4"
      },
      "execution_count": null,
      "outputs": [
        {
          "output_type": "stream",
          "name": "stdout",
          "text": [
            "0.8\n",
            "0\n",
            "16\n",
            "6\n"
          ]
        }
      ]
    },
    {
      "cell_type": "markdown",
      "source": [
        "Q.3. List the logical operators.\n",
        "\n",
        "AND: This operator states true if both the operands are true, if one will be false it will state as Flase. For e.g., True and True will True, but Flase and True will be False.\n",
        "\n",
        "OR: This operator states true if one of the operand is true, it'll state false only when both operands are false. For e.g., True and False will True.\n",
        "\n",
        "NOT: This operator takes only one operand as it is urinary operator, it negates the answer. For e.g., True will be False and False will be True."
      ],
      "metadata": {
        "id": "3jS-q0J53Bbb"
      }
    },
    {
      "cell_type": "code",
      "source": [
        "print(4==4 and 5==3)\n",
        "print(4==4 or 5==3)\n",
        "print(not 4==4)"
      ],
      "metadata": {
        "colab": {
          "base_uri": "https://localhost:8080/"
        },
        "id": "8OE6TmEl59E7",
        "outputId": "bc4692aa-06d6-4bbf-973d-aed45cfbdf13"
      },
      "execution_count": null,
      "outputs": [
        {
          "output_type": "stream",
          "name": "stdout",
          "text": [
            "False\n",
            "True\n",
            "False\n"
          ]
        }
      ]
    },
    {
      "cell_type": "markdown",
      "source": [
        "\n",
        "Q.4. Explain right shift operator and left shift operator with examples.\n",
        "\n",
        "Right Shift: The left operand’s value is moved toward right by the number of bits specified by the right operand.\n",
        "\n",
        "Bitwise left shift: The left operand’s value is moved toward left by the number of bits specified by the right operand."
      ],
      "metadata": {
        "id": "MTHu8VRg59xD"
      }
    },
    {
      "cell_type": "code",
      "source": [
        "a = 10\n",
        "b = -10\n",
        "\n",
        "#right shift operator\n",
        "print(\"a >> 1 =\", a >> 1)\n",
        "print(\"b >> 1 =\", b >> 1)\n",
        "\n",
        "a = 5\n",
        "b = -10\n",
        "\n",
        "#left shift operator\n",
        "print(\"a << 1 =\", a << 1)\n",
        "print(\"b << 1 =\", b << 1)"
      ],
      "metadata": {
        "colab": {
          "base_uri": "https://localhost:8080/"
        },
        "id": "6dqh6Lrl6n8O",
        "outputId": "25bc731f-def6-4293-872d-94a13e2303c4"
      },
      "execution_count": null,
      "outputs": [
        {
          "output_type": "stream",
          "name": "stdout",
          "text": [
            "a >> 1 = 5\n",
            "b >> 1 = -5\n",
            "a << 1 = 10\n",
            "b << 1 = -20\n"
          ]
        }
      ]
    },
    {
      "cell_type": "markdown",
      "source": [
        "\n",
        "Q.5. Create a list containing int type data of length 15. Then write a code to check if 10 is\n",
        "present in the list or not."
      ],
      "metadata": {
        "id": "BxoMyXat6oMJ"
      }
    },
    {
      "cell_type": "code",
      "source": [
        "list=[1,2,3,4,10,5,6,7,8,9,11,12,13,14,15]\n",
        "print(list.index(10)) #this will print the position of the value\n",
        "list2=[1,2,3,4,21,5,6,7,8,9,11,12,13,14,15]\n",
        "print(list2.index(10)) #as this list doesn't contain 10 it'll give an error"
      ],
      "metadata": {
        "colab": {
          "base_uri": "https://localhost:8080/",
          "height": 227
        },
        "id": "ZfDyQRHdUU3y",
        "outputId": "a0d191a7-cb83-44eb-d58b-6a55cbdc2acb"
      },
      "execution_count": 5,
      "outputs": [
        {
          "output_type": "stream",
          "name": "stdout",
          "text": [
            "4\n"
          ]
        },
        {
          "output_type": "error",
          "ename": "ValueError",
          "evalue": "ignored",
          "traceback": [
            "\u001b[0;31m---------------------------------------------------------------------------\u001b[0m",
            "\u001b[0;31mValueError\u001b[0m                                Traceback (most recent call last)",
            "\u001b[0;32m<ipython-input-5-9db74b959a25>\u001b[0m in \u001b[0;36m<cell line: 4>\u001b[0;34m()\u001b[0m\n\u001b[1;32m      2\u001b[0m \u001b[0mprint\u001b[0m\u001b[0;34m(\u001b[0m\u001b[0mlist\u001b[0m\u001b[0;34m.\u001b[0m\u001b[0mindex\u001b[0m\u001b[0;34m(\u001b[0m\u001b[0;36m10\u001b[0m\u001b[0;34m)\u001b[0m\u001b[0;34m)\u001b[0m \u001b[0;31m#this will print the position of the value\u001b[0m\u001b[0;34m\u001b[0m\u001b[0;34m\u001b[0m\u001b[0m\n\u001b[1;32m      3\u001b[0m \u001b[0mlist2\u001b[0m\u001b[0;34m=\u001b[0m\u001b[0;34m[\u001b[0m\u001b[0;36m1\u001b[0m\u001b[0;34m,\u001b[0m\u001b[0;36m2\u001b[0m\u001b[0;34m,\u001b[0m\u001b[0;36m3\u001b[0m\u001b[0;34m,\u001b[0m\u001b[0;36m4\u001b[0m\u001b[0;34m,\u001b[0m\u001b[0;36m21\u001b[0m\u001b[0;34m,\u001b[0m\u001b[0;36m5\u001b[0m\u001b[0;34m,\u001b[0m\u001b[0;36m6\u001b[0m\u001b[0;34m,\u001b[0m\u001b[0;36m7\u001b[0m\u001b[0;34m,\u001b[0m\u001b[0;36m8\u001b[0m\u001b[0;34m,\u001b[0m\u001b[0;36m9\u001b[0m\u001b[0;34m,\u001b[0m\u001b[0;36m11\u001b[0m\u001b[0;34m,\u001b[0m\u001b[0;36m12\u001b[0m\u001b[0;34m,\u001b[0m\u001b[0;36m13\u001b[0m\u001b[0;34m,\u001b[0m\u001b[0;36m14\u001b[0m\u001b[0;34m,\u001b[0m\u001b[0;36m15\u001b[0m\u001b[0;34m]\u001b[0m\u001b[0;34m\u001b[0m\u001b[0;34m\u001b[0m\u001b[0m\n\u001b[0;32m----> 4\u001b[0;31m \u001b[0mprint\u001b[0m\u001b[0;34m(\u001b[0m\u001b[0mlist2\u001b[0m\u001b[0;34m.\u001b[0m\u001b[0mindex\u001b[0m\u001b[0;34m(\u001b[0m\u001b[0;36m10\u001b[0m\u001b[0;34m)\u001b[0m\u001b[0;34m)\u001b[0m\u001b[0;34m\u001b[0m\u001b[0;34m\u001b[0m\u001b[0m\n\u001b[0m",
            "\u001b[0;31mValueError\u001b[0m: 10 is not in list"
          ]
        }
      ]
    }
  ]
}